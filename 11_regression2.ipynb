{
 "cells": [
  {
   "attachments": {},
   "cell_type": "markdown",
   "metadata": {},
   "source": [
    "# データの準備"
   ]
  },
  {
   "cell_type": "code",
   "execution_count": 14,
   "metadata": {},
   "outputs": [],
   "source": [
    "import numpy as np\n",
    "import pandas as pd\n",
    "import seaborn as sns"
   ]
  },
  {
   "cell_type": "code",
   "execution_count": 15,
   "metadata": {},
   "outputs": [],
   "source": [
    "import japanize_matplotlib\n"
   ]
  },
  {
   "cell_type": "code",
   "execution_count": 16,
   "metadata": {},
   "outputs": [
    {
     "data": {
      "text/html": [
       "<div>\n",
       "<style scoped>\n",
       "    .dataframe tbody tr th:only-of-type {\n",
       "        vertical-align: middle;\n",
       "    }\n",
       "\n",
       "    .dataframe tbody tr th {\n",
       "        vertical-align: top;\n",
       "    }\n",
       "\n",
       "    .dataframe thead th {\n",
       "        text-align: right;\n",
       "    }\n",
       "</style>\n",
       "<table border=\"1\" class=\"dataframe\">\n",
       "  <thead>\n",
       "    <tr style=\"text-align: right;\">\n",
       "      <th></th>\n",
       "      <th>所得</th>\n",
       "      <th>築年数</th>\n",
       "      <th>地域人口</th>\n",
       "      <th>緯度</th>\n",
       "      <th>経度</th>\n",
       "      <th>住宅価格</th>\n",
       "      <th>部屋数/人</th>\n",
       "      <th>寝室数/人</th>\n",
       "    </tr>\n",
       "  </thead>\n",
       "  <tbody>\n",
       "    <tr>\n",
       "      <th>0</th>\n",
       "      <td>8.3252</td>\n",
       "      <td>41.0</td>\n",
       "      <td>322.0</td>\n",
       "      <td>37.88</td>\n",
       "      <td>-122.23</td>\n",
       "      <td>4.526</td>\n",
       "      <td>2.732919</td>\n",
       "      <td>0.400621</td>\n",
       "    </tr>\n",
       "    <tr>\n",
       "      <th>1</th>\n",
       "      <td>8.3014</td>\n",
       "      <td>21.0</td>\n",
       "      <td>2401.0</td>\n",
       "      <td>37.86</td>\n",
       "      <td>-122.22</td>\n",
       "      <td>3.585</td>\n",
       "      <td>2.956685</td>\n",
       "      <td>0.460641</td>\n",
       "    </tr>\n",
       "    <tr>\n",
       "      <th>2</th>\n",
       "      <td>2.0804</td>\n",
       "      <td>42.0</td>\n",
       "      <td>1206.0</td>\n",
       "      <td>37.84</td>\n",
       "      <td>-122.26</td>\n",
       "      <td>2.267</td>\n",
       "      <td>2.118574</td>\n",
       "      <td>0.551410</td>\n",
       "    </tr>\n",
       "    <tr>\n",
       "      <th>3</th>\n",
       "      <td>2.1250</td>\n",
       "      <td>50.0</td>\n",
       "      <td>697.0</td>\n",
       "      <td>37.85</td>\n",
       "      <td>-122.26</td>\n",
       "      <td>1.400</td>\n",
       "      <td>1.606887</td>\n",
       "      <td>0.406026</td>\n",
       "    </tr>\n",
       "    <tr>\n",
       "      <th>4</th>\n",
       "      <td>1.9911</td>\n",
       "      <td>50.0</td>\n",
       "      <td>990.0</td>\n",
       "      <td>37.84</td>\n",
       "      <td>-122.26</td>\n",
       "      <td>1.587</td>\n",
       "      <td>2.261616</td>\n",
       "      <td>0.459596</td>\n",
       "    </tr>\n",
       "  </tbody>\n",
       "</table>\n",
       "</div>"
      ],
      "text/plain": [
       "       所得   築年数    地域人口     緯度      経度   住宅価格     部屋数/人     寝室数/人\n",
       "0  8.3252  41.0   322.0  37.88 -122.23  4.526  2.732919  0.400621\n",
       "1  8.3014  21.0  2401.0  37.86 -122.22  3.585  2.956685  0.460641\n",
       "2  2.0804  42.0  1206.0  37.84 -122.26  2.267  2.118574  0.551410\n",
       "3  2.1250  50.0   697.0  37.85 -122.26  1.400  1.606887  0.406026\n",
       "4  1.9911  50.0   990.0  37.84 -122.26  1.587  2.261616  0.459596"
      ]
     },
     "execution_count": 16,
     "metadata": {},
     "output_type": "execute_result"
    }
   ],
   "source": [
    "df = pd.read_csv('california_housing_cleansing.csv')\n",
    "df = df.drop(columns = ['Unnamed: 0'])\n",
    "df.head()"
   ]
  },
  {
   "cell_type": "code",
   "execution_count": 17,
   "metadata": {},
   "outputs": [],
   "source": [
    "# 説明変数の定義\n",
    "X = df.drop(columns=['住宅価格']).to_numpy()\n",
    "# 目的変数の定義\n",
    "y = df['住宅価格'].to_numpy()\n",
    "\n",
    "# 学習データとテストデータに分割\n",
    "from sklearn.model_selection import train_test_split\n",
    "X_train, X_test, y_train, y_test = train_test_split(X, y, test_size=0.3, random_state=0)\n"
   ]
  },
  {
   "attachments": {},
   "cell_type": "markdown",
   "metadata": {},
   "source": [
    "# 回帰手法の改善"
   ]
  },
  {
   "cell_type": "code",
   "execution_count": 18,
   "metadata": {},
   "outputs": [],
   "source": [
    "# StandardScalerのインポート\n",
    "from sklearn.preprocessing import StandardScaler\n"
   ]
  },
  {
   "cell_type": "code",
   "execution_count": 19,
   "metadata": {},
   "outputs": [],
   "source": [
    "scaler = StandardScaler()"
   ]
  },
  {
   "cell_type": "code",
   "execution_count": 20,
   "metadata": {},
   "outputs": [
    {
     "data": {
      "text/html": [
       "<style>#sk-container-id-2 {color: black;background-color: white;}#sk-container-id-2 pre{padding: 0;}#sk-container-id-2 div.sk-toggleable {background-color: white;}#sk-container-id-2 label.sk-toggleable__label {cursor: pointer;display: block;width: 100%;margin-bottom: 0;padding: 0.3em;box-sizing: border-box;text-align: center;}#sk-container-id-2 label.sk-toggleable__label-arrow:before {content: \"▸\";float: left;margin-right: 0.25em;color: #696969;}#sk-container-id-2 label.sk-toggleable__label-arrow:hover:before {color: black;}#sk-container-id-2 div.sk-estimator:hover label.sk-toggleable__label-arrow:before {color: black;}#sk-container-id-2 div.sk-toggleable__content {max-height: 0;max-width: 0;overflow: hidden;text-align: left;background-color: #f0f8ff;}#sk-container-id-2 div.sk-toggleable__content pre {margin: 0.2em;color: black;border-radius: 0.25em;background-color: #f0f8ff;}#sk-container-id-2 input.sk-toggleable__control:checked~div.sk-toggleable__content {max-height: 200px;max-width: 100%;overflow: auto;}#sk-container-id-2 input.sk-toggleable__control:checked~label.sk-toggleable__label-arrow:before {content: \"▾\";}#sk-container-id-2 div.sk-estimator input.sk-toggleable__control:checked~label.sk-toggleable__label {background-color: #d4ebff;}#sk-container-id-2 div.sk-label input.sk-toggleable__control:checked~label.sk-toggleable__label {background-color: #d4ebff;}#sk-container-id-2 input.sk-hidden--visually {border: 0;clip: rect(1px 1px 1px 1px);clip: rect(1px, 1px, 1px, 1px);height: 1px;margin: -1px;overflow: hidden;padding: 0;position: absolute;width: 1px;}#sk-container-id-2 div.sk-estimator {font-family: monospace;background-color: #f0f8ff;border: 1px dotted black;border-radius: 0.25em;box-sizing: border-box;margin-bottom: 0.5em;}#sk-container-id-2 div.sk-estimator:hover {background-color: #d4ebff;}#sk-container-id-2 div.sk-parallel-item::after {content: \"\";width: 100%;border-bottom: 1px solid gray;flex-grow: 1;}#sk-container-id-2 div.sk-label:hover label.sk-toggleable__label {background-color: #d4ebff;}#sk-container-id-2 div.sk-serial::before {content: \"\";position: absolute;border-left: 1px solid gray;box-sizing: border-box;top: 0;bottom: 0;left: 50%;z-index: 0;}#sk-container-id-2 div.sk-serial {display: flex;flex-direction: column;align-items: center;background-color: white;padding-right: 0.2em;padding-left: 0.2em;position: relative;}#sk-container-id-2 div.sk-item {position: relative;z-index: 1;}#sk-container-id-2 div.sk-parallel {display: flex;align-items: stretch;justify-content: center;background-color: white;position: relative;}#sk-container-id-2 div.sk-item::before, #sk-container-id-2 div.sk-parallel-item::before {content: \"\";position: absolute;border-left: 1px solid gray;box-sizing: border-box;top: 0;bottom: 0;left: 50%;z-index: -1;}#sk-container-id-2 div.sk-parallel-item {display: flex;flex-direction: column;z-index: 1;position: relative;background-color: white;}#sk-container-id-2 div.sk-parallel-item:first-child::after {align-self: flex-end;width: 50%;}#sk-container-id-2 div.sk-parallel-item:last-child::after {align-self: flex-start;width: 50%;}#sk-container-id-2 div.sk-parallel-item:only-child::after {width: 0;}#sk-container-id-2 div.sk-dashed-wrapped {border: 1px dashed gray;margin: 0 0.4em 0.5em 0.4em;box-sizing: border-box;padding-bottom: 0.4em;background-color: white;}#sk-container-id-2 div.sk-label label {font-family: monospace;font-weight: bold;display: inline-block;line-height: 1.2em;}#sk-container-id-2 div.sk-label-container {text-align: center;}#sk-container-id-2 div.sk-container {/* jupyter's `normalize.less` sets `[hidden] { display: none; }` but bootstrap.min.css set `[hidden] { display: none !important; }` so we also need the `!important` here to be able to override the default hidden behavior on the sphinx rendered scikit-learn.org. See: https://github.com/scikit-learn/scikit-learn/issues/21755 */display: inline-block !important;position: relative;}#sk-container-id-2 div.sk-text-repr-fallback {display: none;}</style><div id=\"sk-container-id-2\" class=\"sk-top-container\"><div class=\"sk-text-repr-fallback\"><pre>StandardScaler()</pre><b>In a Jupyter environment, please rerun this cell to show the HTML representation or trust the notebook. <br />On GitHub, the HTML representation is unable to render, please try loading this page with nbviewer.org.</b></div><div class=\"sk-container\" hidden><div class=\"sk-item\"><div class=\"sk-estimator sk-toggleable\"><input class=\"sk-toggleable__control sk-hidden--visually\" id=\"sk-estimator-id-2\" type=\"checkbox\" checked><label for=\"sk-estimator-id-2\" class=\"sk-toggleable__label sk-toggleable__label-arrow\">StandardScaler</label><div class=\"sk-toggleable__content\"><pre>StandardScaler()</pre></div></div></div></div></div>"
      ],
      "text/plain": [
       "StandardScaler()"
      ]
     },
     "execution_count": 20,
     "metadata": {},
     "output_type": "execute_result"
    }
   ],
   "source": [
    "# 標準化の変換モデルの生成\n",
    "scaler.fit(X_train)"
   ]
  },
  {
   "cell_type": "code",
   "execution_count": 21,
   "metadata": {},
   "outputs": [],
   "source": [
    "#  標準化の変換モデルを利用したスケールの変換\n",
    "X_train_scaled = scaler.transform(X_train)"
   ]
  },
  {
   "cell_type": "code",
   "execution_count": 22,
   "metadata": {},
   "outputs": [
    {
     "data": {
      "text/html": [
       "<div>\n",
       "<style scoped>\n",
       "    .dataframe tbody tr th:only-of-type {\n",
       "        vertical-align: middle;\n",
       "    }\n",
       "\n",
       "    .dataframe tbody tr th {\n",
       "        vertical-align: top;\n",
       "    }\n",
       "\n",
       "    .dataframe thead th {\n",
       "        text-align: right;\n",
       "    }\n",
       "</style>\n",
       "<table border=\"1\" class=\"dataframe\">\n",
       "  <thead>\n",
       "    <tr style=\"text-align: right;\">\n",
       "      <th></th>\n",
       "      <th>所得</th>\n",
       "      <th>築年数</th>\n",
       "      <th>地域人口</th>\n",
       "      <th>緯度</th>\n",
       "      <th>経度</th>\n",
       "      <th>部屋数</th>\n",
       "      <th>寝室数</th>\n",
       "    </tr>\n",
       "  </thead>\n",
       "  <tbody>\n",
       "    <tr>\n",
       "      <th>0</th>\n",
       "      <td>3.7500</td>\n",
       "      <td>29.0</td>\n",
       "      <td>1390.0</td>\n",
       "      <td>34.04</td>\n",
       "      <td>-117.98</td>\n",
       "      <td>1.056115</td>\n",
       "      <td>0.223022</td>\n",
       "    </tr>\n",
       "    <tr>\n",
       "      <th>1</th>\n",
       "      <td>3.1187</td>\n",
       "      <td>25.0</td>\n",
       "      <td>588.0</td>\n",
       "      <td>33.01</td>\n",
       "      <td>-117.07</td>\n",
       "      <td>3.605442</td>\n",
       "      <td>0.647959</td>\n",
       "    </tr>\n",
       "    <tr>\n",
       "      <th>2</th>\n",
       "      <td>4.6406</td>\n",
       "      <td>45.0</td>\n",
       "      <td>1180.0</td>\n",
       "      <td>33.90</td>\n",
       "      <td>-118.07</td>\n",
       "      <td>1.505085</td>\n",
       "      <td>0.299153</td>\n",
       "    </tr>\n",
       "    <tr>\n",
       "      <th>3</th>\n",
       "      <td>5.9010</td>\n",
       "      <td>18.0</td>\n",
       "      <td>2882.0</td>\n",
       "      <td>34.33</td>\n",
       "      <td>-118.43</td>\n",
       "      <td>2.044067</td>\n",
       "      <td>0.319223</td>\n",
       "    </tr>\n",
       "    <tr>\n",
       "      <th>4</th>\n",
       "      <td>2.6167</td>\n",
       "      <td>42.0</td>\n",
       "      <td>1271.0</td>\n",
       "      <td>37.99</td>\n",
       "      <td>-122.34</td>\n",
       "      <td>1.204563</td>\n",
       "      <td>0.256491</td>\n",
       "    </tr>\n",
       "  </tbody>\n",
       "</table>\n",
       "</div>"
      ],
      "text/plain": [
       "       所得   築年数    地域人口     緯度      経度       部屋数       寝室数\n",
       "0  3.7500  29.0  1390.0  34.04 -117.98  1.056115  0.223022\n",
       "1  3.1187  25.0   588.0  33.01 -117.07  3.605442  0.647959\n",
       "2  4.6406  45.0  1180.0  33.90 -118.07  1.505085  0.299153\n",
       "3  5.9010  18.0  2882.0  34.33 -118.43  2.044067  0.319223\n",
       "4  2.6167  42.0  1271.0  37.99 -122.34  1.204563  0.256491"
      ]
     },
     "execution_count": 22,
     "metadata": {},
     "output_type": "execute_result"
    }
   ],
   "source": [
    "# 変換前\n",
    "df_X_train = pd.DataFrame(X_train, columns=['所得', '築年数', '地域人口', '緯度', '経度', '部屋数', '寝室数'])\n",
    "df_X_train.head()\n"
   ]
  },
  {
   "cell_type": "code",
   "execution_count": 23,
   "metadata": {},
   "outputs": [
    {
     "data": {
      "text/html": [
       "<div>\n",
       "<style scoped>\n",
       "    .dataframe tbody tr th:only-of-type {\n",
       "        vertical-align: middle;\n",
       "    }\n",
       "\n",
       "    .dataframe tbody tr th {\n",
       "        vertical-align: top;\n",
       "    }\n",
       "\n",
       "    .dataframe thead th {\n",
       "        text-align: right;\n",
       "    }\n",
       "</style>\n",
       "<table border=\"1\" class=\"dataframe\">\n",
       "  <thead>\n",
       "    <tr style=\"text-align: right;\">\n",
       "      <th></th>\n",
       "      <th>所得</th>\n",
       "      <th>築年数</th>\n",
       "      <th>地域人口</th>\n",
       "      <th>緯度</th>\n",
       "      <th>経度</th>\n",
       "      <th>部屋数</th>\n",
       "      <th>寝室数</th>\n",
       "    </tr>\n",
       "  </thead>\n",
       "  <tbody>\n",
       "    <tr>\n",
       "      <th>0</th>\n",
       "      <td>0.034653</td>\n",
       "      <td>0.178247</td>\n",
       "      <td>-0.075532</td>\n",
       "      <td>-0.723337</td>\n",
       "      <td>0.760166</td>\n",
       "      <td>-0.837592</td>\n",
       "      <td>-0.809192</td>\n",
       "    </tr>\n",
       "    <tr>\n",
       "      <th>1</th>\n",
       "      <td>-0.368102</td>\n",
       "      <td>-0.170455</td>\n",
       "      <td>-0.767887</td>\n",
       "      <td>-1.203976</td>\n",
       "      <td>1.220266</td>\n",
       "      <td>1.614325</td>\n",
       "      <td>1.182965</td>\n",
       "    </tr>\n",
       "    <tr>\n",
       "      <th>2</th>\n",
       "      <td>0.602835</td>\n",
       "      <td>1.573057</td>\n",
       "      <td>-0.256822</td>\n",
       "      <td>-0.788667</td>\n",
       "      <td>0.714662</td>\n",
       "      <td>-0.405778</td>\n",
       "      <td>-0.452281</td>\n",
       "    </tr>\n",
       "    <tr>\n",
       "      <th>3</th>\n",
       "      <td>1.406941</td>\n",
       "      <td>-0.780684</td>\n",
       "      <td>1.212489</td>\n",
       "      <td>-0.588012</td>\n",
       "      <td>0.532645</td>\n",
       "      <td>0.112610</td>\n",
       "      <td>-0.358190</td>\n",
       "    </tr>\n",
       "    <tr>\n",
       "      <th>4</th>\n",
       "      <td>-0.688367</td>\n",
       "      <td>1.311530</td>\n",
       "      <td>-0.178263</td>\n",
       "      <td>1.119887</td>\n",
       "      <td>-1.444266</td>\n",
       "      <td>-0.694816</td>\n",
       "      <td>-0.652284</td>\n",
       "    </tr>\n",
       "  </tbody>\n",
       "</table>\n",
       "</div>"
      ],
      "text/plain": [
       "         所得       築年数      地域人口        緯度        経度       部屋数       寝室数\n",
       "0  0.034653  0.178247 -0.075532 -0.723337  0.760166 -0.837592 -0.809192\n",
       "1 -0.368102 -0.170455 -0.767887 -1.203976  1.220266  1.614325  1.182965\n",
       "2  0.602835  1.573057 -0.256822 -0.788667  0.714662 -0.405778 -0.452281\n",
       "3  1.406941 -0.780684  1.212489 -0.588012  0.532645  0.112610 -0.358190\n",
       "4 -0.688367  1.311530 -0.178263  1.119887 -1.444266 -0.694816 -0.652284"
      ]
     },
     "execution_count": 23,
     "metadata": {},
     "output_type": "execute_result"
    }
   ],
   "source": [
    "# 変換後\n",
    "df_X_train_scaled = pd.DataFrame(X_train_scaled, columns=['所得', '築年数', '地域人口', '緯度', '経度', '部屋数', '寝室数'])\n",
    "df_X_train_scaled.head()\n"
   ]
  },
  {
   "cell_type": "code",
   "execution_count": 24,
   "metadata": {},
   "outputs": [
    {
     "data": {
      "text/html": [
       "<div>\n",
       "<style scoped>\n",
       "    .dataframe tbody tr th:only-of-type {\n",
       "        vertical-align: middle;\n",
       "    }\n",
       "\n",
       "    .dataframe tbody tr th {\n",
       "        vertical-align: top;\n",
       "    }\n",
       "\n",
       "    .dataframe thead th {\n",
       "        text-align: right;\n",
       "    }\n",
       "</style>\n",
       "<table border=\"1\" class=\"dataframe\">\n",
       "  <thead>\n",
       "    <tr style=\"text-align: right;\">\n",
       "      <th></th>\n",
       "      <th>所得</th>\n",
       "      <th>築年数</th>\n",
       "      <th>地域人口</th>\n",
       "      <th>緯度</th>\n",
       "      <th>経度</th>\n",
       "      <th>部屋数</th>\n",
       "      <th>寝室数</th>\n",
       "    </tr>\n",
       "  </thead>\n",
       "  <tbody>\n",
       "    <tr>\n",
       "      <th>count</th>\n",
       "      <td>1.300000e+04</td>\n",
       "      <td>1.300000e+04</td>\n",
       "      <td>1.300000e+04</td>\n",
       "      <td>1.300000e+04</td>\n",
       "      <td>1.300000e+04</td>\n",
       "      <td>1.300000e+04</td>\n",
       "      <td>1.300000e+04</td>\n",
       "    </tr>\n",
       "    <tr>\n",
       "      <th>mean</th>\n",
       "      <td>4.533263e-15</td>\n",
       "      <td>7.651999e-17</td>\n",
       "      <td>8.280556e-17</td>\n",
       "      <td>-3.489093e-14</td>\n",
       "      <td>-8.354643e-14</td>\n",
       "      <td>1.134163e-14</td>\n",
       "      <td>-1.848504e-15</td>\n",
       "    </tr>\n",
       "    <tr>\n",
       "      <th>std</th>\n",
       "      <td>1.000038e+00</td>\n",
       "      <td>1.000038e+00</td>\n",
       "      <td>1.000038e+00</td>\n",
       "      <td>1.000038e+00</td>\n",
       "      <td>1.000038e+00</td>\n",
       "      <td>1.000038e+00</td>\n",
       "      <td>1.000038e+00</td>\n",
       "    </tr>\n",
       "    <tr>\n",
       "      <th>min</th>\n",
       "      <td>-2.038837e+00</td>\n",
       "      <td>-2.262670e+00</td>\n",
       "      <td>-1.268592e+00</td>\n",
       "      <td>-1.418630e+00</td>\n",
       "      <td>-2.420081e+00</td>\n",
       "      <td>-1.850904e+00</td>\n",
       "      <td>-1.851601e+00</td>\n",
       "    </tr>\n",
       "    <tr>\n",
       "      <th>25%</th>\n",
       "      <td>-7.374752e-01</td>\n",
       "      <td>-8.678601e-01</td>\n",
       "      <td>-5.701945e-01</td>\n",
       "      <td>-7.793341e-01</td>\n",
       "      <td>-1.034727e+00</td>\n",
       "      <td>-4.232155e-01</td>\n",
       "      <td>-3.998158e-01</td>\n",
       "    </tr>\n",
       "    <tr>\n",
       "      <th>50%</th>\n",
       "      <td>-1.394514e-01</td>\n",
       "      <td>3.896079e-03</td>\n",
       "      <td>-2.291970e-01</td>\n",
       "      <td>-6.300096e-01</td>\n",
       "      <td>5.225325e-01</td>\n",
       "      <td>-2.454245e-02</td>\n",
       "      <td>-1.384252e-01</td>\n",
       "    </tr>\n",
       "    <tr>\n",
       "      <th>75%</th>\n",
       "      <td>5.805695e-01</td>\n",
       "      <td>7.884766e-01</td>\n",
       "      <td>2.622279e-01</td>\n",
       "      <td>9.752284e-01</td>\n",
       "      <td>7.652223e-01</td>\n",
       "      <td>2.989548e-01</td>\n",
       "      <td>1.855580e-01</td>\n",
       "    </tr>\n",
       "    <tr>\n",
       "      <th>max</th>\n",
       "      <td>7.211958e+00</td>\n",
       "      <td>2.096111e+00</td>\n",
       "      <td>2.952823e+01</td>\n",
       "      <td>2.935112e+00</td>\n",
       "      <td>2.615732e+00</td>\n",
       "      <td>3.790064e+01</td>\n",
       "      <td>3.916628e+01</td>\n",
       "    </tr>\n",
       "  </tbody>\n",
       "</table>\n",
       "</div>"
      ],
      "text/plain": [
       "                 所得           築年数          地域人口            緯度            経度  \\\n",
       "count  1.300000e+04  1.300000e+04  1.300000e+04  1.300000e+04  1.300000e+04   \n",
       "mean   4.533263e-15  7.651999e-17  8.280556e-17 -3.489093e-14 -8.354643e-14   \n",
       "std    1.000038e+00  1.000038e+00  1.000038e+00  1.000038e+00  1.000038e+00   \n",
       "min   -2.038837e+00 -2.262670e+00 -1.268592e+00 -1.418630e+00 -2.420081e+00   \n",
       "25%   -7.374752e-01 -8.678601e-01 -5.701945e-01 -7.793341e-01 -1.034727e+00   \n",
       "50%   -1.394514e-01  3.896079e-03 -2.291970e-01 -6.300096e-01  5.225325e-01   \n",
       "75%    5.805695e-01  7.884766e-01  2.622279e-01  9.752284e-01  7.652223e-01   \n",
       "max    7.211958e+00  2.096111e+00  2.952823e+01  2.935112e+00  2.615732e+00   \n",
       "\n",
       "                部屋数           寝室数  \n",
       "count  1.300000e+04  1.300000e+04  \n",
       "mean   1.134163e-14 -1.848504e-15  \n",
       "std    1.000038e+00  1.000038e+00  \n",
       "min   -1.850904e+00 -1.851601e+00  \n",
       "25%   -4.232155e-01 -3.998158e-01  \n",
       "50%   -2.454245e-02 -1.384252e-01  \n",
       "75%    2.989548e-01  1.855580e-01  \n",
       "max    3.790064e+01  3.916628e+01  "
      ]
     },
     "execution_count": 24,
     "metadata": {},
     "output_type": "execute_result"
    }
   ],
   "source": [
    "# チェック\n",
    "df_X_train_scaled.describe()"
   ]
  },
  {
   "cell_type": "code",
   "execution_count": 25,
   "metadata": {},
   "outputs": [],
   "source": [
    "X_test_scaled  = scaler.transform(X_test)\n"
   ]
  },
  {
   "cell_type": "code",
   "execution_count": 26,
   "metadata": {},
   "outputs": [
    {
     "data": {
      "text/html": [
       "<div>\n",
       "<style scoped>\n",
       "    .dataframe tbody tr th:only-of-type {\n",
       "        vertical-align: middle;\n",
       "    }\n",
       "\n",
       "    .dataframe tbody tr th {\n",
       "        vertical-align: top;\n",
       "    }\n",
       "\n",
       "    .dataframe thead th {\n",
       "        text-align: right;\n",
       "    }\n",
       "</style>\n",
       "<table border=\"1\" class=\"dataframe\">\n",
       "  <thead>\n",
       "    <tr style=\"text-align: right;\">\n",
       "      <th></th>\n",
       "      <th>所得</th>\n",
       "      <th>築年数</th>\n",
       "      <th>地域人口</th>\n",
       "      <th>緯度</th>\n",
       "      <th>経度</th>\n",
       "      <th>部屋数</th>\n",
       "      <th>寝室数</th>\n",
       "    </tr>\n",
       "  </thead>\n",
       "  <tbody>\n",
       "    <tr>\n",
       "      <th>0</th>\n",
       "      <td>2.9628</td>\n",
       "      <td>36.0</td>\n",
       "      <td>2388.0</td>\n",
       "      <td>34.13</td>\n",
       "      <td>-117.27</td>\n",
       "      <td>1.397404</td>\n",
       "      <td>0.287688</td>\n",
       "    </tr>\n",
       "    <tr>\n",
       "      <th>1</th>\n",
       "      <td>2.2279</td>\n",
       "      <td>37.0</td>\n",
       "      <td>72.0</td>\n",
       "      <td>37.65</td>\n",
       "      <td>-120.95</td>\n",
       "      <td>1.888889</td>\n",
       "      <td>0.277778</td>\n",
       "    </tr>\n",
       "    <tr>\n",
       "      <th>2</th>\n",
       "      <td>4.5781</td>\n",
       "      <td>9.0</td>\n",
       "      <td>2235.0</td>\n",
       "      <td>33.18</td>\n",
       "      <td>-117.26</td>\n",
       "      <td>2.031320</td>\n",
       "      <td>0.354810</td>\n",
       "    </tr>\n",
       "    <tr>\n",
       "      <th>3</th>\n",
       "      <td>5.5209</td>\n",
       "      <td>35.0</td>\n",
       "      <td>1052.0</td>\n",
       "      <td>34.22</td>\n",
       "      <td>-118.52</td>\n",
       "      <td>1.539924</td>\n",
       "      <td>0.258555</td>\n",
       "    </tr>\n",
       "    <tr>\n",
       "      <th>4</th>\n",
       "      <td>2.2361</td>\n",
       "      <td>46.0</td>\n",
       "      <td>101.0</td>\n",
       "      <td>38.02</td>\n",
       "      <td>-121.82</td>\n",
       "      <td>1.742574</td>\n",
       "      <td>0.425743</td>\n",
       "    </tr>\n",
       "  </tbody>\n",
       "</table>\n",
       "</div>"
      ],
      "text/plain": [
       "       所得   築年数    地域人口     緯度      経度       部屋数       寝室数\n",
       "0  2.9628  36.0  2388.0  34.13 -117.27  1.397404  0.287688\n",
       "1  2.2279  37.0    72.0  37.65 -120.95  1.888889  0.277778\n",
       "2  4.5781   9.0  2235.0  33.18 -117.26  2.031320  0.354810\n",
       "3  5.5209  35.0  1052.0  34.22 -118.52  1.539924  0.258555\n",
       "4  2.2361  46.0   101.0  38.02 -121.82  1.742574  0.425743"
      ]
     },
     "execution_count": 26,
     "metadata": {},
     "output_type": "execute_result"
    }
   ],
   "source": [
    "# 変換前のX_test\n",
    "df_X_test = pd.DataFrame(X_test, columns=['所得', '築年数', '地域人口', '緯度', '経度', '部屋数', '寝室数'])\n",
    "df_X_test.head()"
   ]
  },
  {
   "cell_type": "code",
   "execution_count": 27,
   "metadata": {},
   "outputs": [
    {
     "data": {
      "text/html": [
       "<div>\n",
       "<style scoped>\n",
       "    .dataframe tbody tr th:only-of-type {\n",
       "        vertical-align: middle;\n",
       "    }\n",
       "\n",
       "    .dataframe tbody tr th {\n",
       "        vertical-align: top;\n",
       "    }\n",
       "\n",
       "    .dataframe thead th {\n",
       "        text-align: right;\n",
       "    }\n",
       "</style>\n",
       "<table border=\"1\" class=\"dataframe\">\n",
       "  <thead>\n",
       "    <tr style=\"text-align: right;\">\n",
       "      <th></th>\n",
       "      <th>所得</th>\n",
       "      <th>築年数</th>\n",
       "      <th>地域人口</th>\n",
       "      <th>緯度</th>\n",
       "      <th>経度</th>\n",
       "      <th>部屋数</th>\n",
       "      <th>寝室数</th>\n",
       "    </tr>\n",
       "  </thead>\n",
       "  <tbody>\n",
       "    <tr>\n",
       "      <th>0</th>\n",
       "      <td>-0.467563</td>\n",
       "      <td>0.788477</td>\n",
       "      <td>0.786026</td>\n",
       "      <td>-0.681340</td>\n",
       "      <td>1.119145</td>\n",
       "      <td>-0.509344</td>\n",
       "      <td>-0.506026</td>\n",
       "    </tr>\n",
       "    <tr>\n",
       "      <th>1</th>\n",
       "      <td>-0.936412</td>\n",
       "      <td>0.875652</td>\n",
       "      <td>-1.213342</td>\n",
       "      <td>0.961229</td>\n",
       "      <td>-0.741477</td>\n",
       "      <td>-0.036639</td>\n",
       "      <td>-0.552489</td>\n",
       "    </tr>\n",
       "    <tr>\n",
       "      <th>2</th>\n",
       "      <td>0.562961</td>\n",
       "      <td>-1.565265</td>\n",
       "      <td>0.653943</td>\n",
       "      <td>-1.124647</td>\n",
       "      <td>1.124201</td>\n",
       "      <td>0.100350</td>\n",
       "      <td>-0.191353</td>\n",
       "    </tr>\n",
       "    <tr>\n",
       "      <th>3</th>\n",
       "      <td>1.164446</td>\n",
       "      <td>0.701301</td>\n",
       "      <td>-0.367323</td>\n",
       "      <td>-0.639342</td>\n",
       "      <td>0.487140</td>\n",
       "      <td>-0.372270</td>\n",
       "      <td>-0.642607</td>\n",
       "    </tr>\n",
       "    <tr>\n",
       "      <th>4</th>\n",
       "      <td>-0.931181</td>\n",
       "      <td>1.660233</td>\n",
       "      <td>-1.188306</td>\n",
       "      <td>1.133886</td>\n",
       "      <td>-1.181352</td>\n",
       "      <td>-0.177363</td>\n",
       "      <td>0.141187</td>\n",
       "    </tr>\n",
       "  </tbody>\n",
       "</table>\n",
       "</div>"
      ],
      "text/plain": [
       "         所得       築年数      地域人口        緯度        経度       部屋数       寝室数\n",
       "0 -0.467563  0.788477  0.786026 -0.681340  1.119145 -0.509344 -0.506026\n",
       "1 -0.936412  0.875652 -1.213342  0.961229 -0.741477 -0.036639 -0.552489\n",
       "2  0.562961 -1.565265  0.653943 -1.124647  1.124201  0.100350 -0.191353\n",
       "3  1.164446  0.701301 -0.367323 -0.639342  0.487140 -0.372270 -0.642607\n",
       "4 -0.931181  1.660233 -1.188306  1.133886 -1.181352 -0.177363  0.141187"
      ]
     },
     "execution_count": 27,
     "metadata": {},
     "output_type": "execute_result"
    }
   ],
   "source": [
    "#　変換後のX_test (X_test_scaled)\n",
    "df_X_test_scaled = pd.DataFrame(X_test_scaled, columns=['所得', '築年数', '地域人口', '緯度', '経度', '部屋数', '寝室数'])\n",
    "df_X_test_scaled.head()\n"
   ]
  },
  {
   "cell_type": "code",
   "execution_count": 28,
   "metadata": {},
   "outputs": [
    {
     "data": {
      "text/html": [
       "<div>\n",
       "<style scoped>\n",
       "    .dataframe tbody tr th:only-of-type {\n",
       "        vertical-align: middle;\n",
       "    }\n",
       "\n",
       "    .dataframe tbody tr th {\n",
       "        vertical-align: top;\n",
       "    }\n",
       "\n",
       "    .dataframe thead th {\n",
       "        text-align: right;\n",
       "    }\n",
       "</style>\n",
       "<table border=\"1\" class=\"dataframe\">\n",
       "  <thead>\n",
       "    <tr style=\"text-align: right;\">\n",
       "      <th></th>\n",
       "      <th>所得</th>\n",
       "      <th>築年数</th>\n",
       "      <th>地域人口</th>\n",
       "      <th>緯度</th>\n",
       "      <th>経度</th>\n",
       "      <th>部屋数</th>\n",
       "      <th>寝室数</th>\n",
       "    </tr>\n",
       "  </thead>\n",
       "  <tbody>\n",
       "    <tr>\n",
       "      <th>count</th>\n",
       "      <td>5572.000000</td>\n",
       "      <td>5572.000000</td>\n",
       "      <td>5572.000000</td>\n",
       "      <td>5572.000000</td>\n",
       "      <td>5572.000000</td>\n",
       "      <td>5572.000000</td>\n",
       "      <td>5572.000000</td>\n",
       "    </tr>\n",
       "    <tr>\n",
       "      <th>mean</th>\n",
       "      <td>-0.005149</td>\n",
       "      <td>0.008292</td>\n",
       "      <td>-0.020433</td>\n",
       "      <td>0.004869</td>\n",
       "      <td>-0.002439</td>\n",
       "      <td>0.030341</td>\n",
       "      <td>0.037607</td>\n",
       "    </tr>\n",
       "    <tr>\n",
       "      <th>std</th>\n",
       "      <td>1.005489</td>\n",
       "      <td>0.988514</td>\n",
       "      <td>1.012970</td>\n",
       "      <td>1.007327</td>\n",
       "      <td>1.005098</td>\n",
       "      <td>1.245476</td>\n",
       "      <td>1.404714</td>\n",
       "    </tr>\n",
       "    <tr>\n",
       "      <th>min</th>\n",
       "      <td>-2.038837</td>\n",
       "      <td>-2.175494</td>\n",
       "      <td>-1.272908</td>\n",
       "      <td>-1.423296</td>\n",
       "      <td>-2.435249</td>\n",
       "      <td>-1.752933</td>\n",
       "      <td>-1.772656</td>\n",
       "    </tr>\n",
       "    <tr>\n",
       "      <th>25%</th>\n",
       "      <td>-0.748863</td>\n",
       "      <td>-0.780684</td>\n",
       "      <td>-0.583144</td>\n",
       "      <td>-0.784000</td>\n",
       "      <td>-1.065063</td>\n",
       "      <td>-0.407443</td>\n",
       "      <td>-0.380380</td>\n",
       "    </tr>\n",
       "    <tr>\n",
       "      <th>50%</th>\n",
       "      <td>-0.154763</td>\n",
       "      <td>0.003896</td>\n",
       "      <td>-0.253369</td>\n",
       "      <td>-0.630010</td>\n",
       "      <td>0.517476</td>\n",
       "      <td>-0.011944</td>\n",
       "      <td>-0.123381</td>\n",
       "    </tr>\n",
       "    <tr>\n",
       "      <th>75%</th>\n",
       "      <td>0.592882</td>\n",
       "      <td>0.788477</td>\n",
       "      <td>0.258559</td>\n",
       "      <td>0.965896</td>\n",
       "      <td>0.765222</td>\n",
       "      <td>0.303824</td>\n",
       "      <td>0.197324</td>\n",
       "    </tr>\n",
       "    <tr>\n",
       "      <th>max</th>\n",
       "      <td>7.211958</td>\n",
       "      <td>2.096111</td>\n",
       "      <td>23.385096</td>\n",
       "      <td>2.967777</td>\n",
       "      <td>2.534835</td>\n",
       "      <td>51.258832</td>\n",
       "      <td>64.690468</td>\n",
       "    </tr>\n",
       "  </tbody>\n",
       "</table>\n",
       "</div>"
      ],
      "text/plain": [
       "                所得          築年数         地域人口           緯度           経度  \\\n",
       "count  5572.000000  5572.000000  5572.000000  5572.000000  5572.000000   \n",
       "mean     -0.005149     0.008292    -0.020433     0.004869    -0.002439   \n",
       "std       1.005489     0.988514     1.012970     1.007327     1.005098   \n",
       "min      -2.038837    -2.175494    -1.272908    -1.423296    -2.435249   \n",
       "25%      -0.748863    -0.780684    -0.583144    -0.784000    -1.065063   \n",
       "50%      -0.154763     0.003896    -0.253369    -0.630010     0.517476   \n",
       "75%       0.592882     0.788477     0.258559     0.965896     0.765222   \n",
       "max       7.211958     2.096111    23.385096     2.967777     2.534835   \n",
       "\n",
       "               部屋数          寝室数  \n",
       "count  5572.000000  5572.000000  \n",
       "mean      0.030341     0.037607  \n",
       "std       1.245476     1.404714  \n",
       "min      -1.752933    -1.772656  \n",
       "25%      -0.407443    -0.380380  \n",
       "50%      -0.011944    -0.123381  \n",
       "75%       0.303824     0.197324  \n",
       "max      51.258832    64.690468  "
      ]
     },
     "execution_count": 28,
     "metadata": {},
     "output_type": "execute_result"
    }
   ],
   "source": [
    "#変換後のX_test (X_test_scaled)の平均値と標準偏差を確認\n",
    "df_X_test_scaled.describe()"
   ]
  },
  {
   "attachments": {},
   "cell_type": "markdown",
   "metadata": {},
   "source": [
    "## スケール変換後の回帰の流れ\n"
   ]
  },
  {
   "attachments": {},
   "cell_type": "markdown",
   "metadata": {},
   "source": [
    "1. 予測モデルの学習\n",
    "1. 予測モデルの評価\n",
    "1. 予測\n",
    "1. 設定したゴールに対する考察"
   ]
  },
  {
   "cell_type": "code",
   "execution_count": 30,
   "metadata": {},
   "outputs": [],
   "source": [
    "# 予測モデルの学習\n",
    "from sklearn.linear_model import LinearRegression\n",
    "model = LinearRegression()"
   ]
  },
  {
   "cell_type": "code",
   "execution_count": 31,
   "metadata": {},
   "outputs": [
    {
     "data": {
      "text/html": [
       "<style>#sk-container-id-3 {color: black;background-color: white;}#sk-container-id-3 pre{padding: 0;}#sk-container-id-3 div.sk-toggleable {background-color: white;}#sk-container-id-3 label.sk-toggleable__label {cursor: pointer;display: block;width: 100%;margin-bottom: 0;padding: 0.3em;box-sizing: border-box;text-align: center;}#sk-container-id-3 label.sk-toggleable__label-arrow:before {content: \"▸\";float: left;margin-right: 0.25em;color: #696969;}#sk-container-id-3 label.sk-toggleable__label-arrow:hover:before {color: black;}#sk-container-id-3 div.sk-estimator:hover label.sk-toggleable__label-arrow:before {color: black;}#sk-container-id-3 div.sk-toggleable__content {max-height: 0;max-width: 0;overflow: hidden;text-align: left;background-color: #f0f8ff;}#sk-container-id-3 div.sk-toggleable__content pre {margin: 0.2em;color: black;border-radius: 0.25em;background-color: #f0f8ff;}#sk-container-id-3 input.sk-toggleable__control:checked~div.sk-toggleable__content {max-height: 200px;max-width: 100%;overflow: auto;}#sk-container-id-3 input.sk-toggleable__control:checked~label.sk-toggleable__label-arrow:before {content: \"▾\";}#sk-container-id-3 div.sk-estimator input.sk-toggleable__control:checked~label.sk-toggleable__label {background-color: #d4ebff;}#sk-container-id-3 div.sk-label input.sk-toggleable__control:checked~label.sk-toggleable__label {background-color: #d4ebff;}#sk-container-id-3 input.sk-hidden--visually {border: 0;clip: rect(1px 1px 1px 1px);clip: rect(1px, 1px, 1px, 1px);height: 1px;margin: -1px;overflow: hidden;padding: 0;position: absolute;width: 1px;}#sk-container-id-3 div.sk-estimator {font-family: monospace;background-color: #f0f8ff;border: 1px dotted black;border-radius: 0.25em;box-sizing: border-box;margin-bottom: 0.5em;}#sk-container-id-3 div.sk-estimator:hover {background-color: #d4ebff;}#sk-container-id-3 div.sk-parallel-item::after {content: \"\";width: 100%;border-bottom: 1px solid gray;flex-grow: 1;}#sk-container-id-3 div.sk-label:hover label.sk-toggleable__label {background-color: #d4ebff;}#sk-container-id-3 div.sk-serial::before {content: \"\";position: absolute;border-left: 1px solid gray;box-sizing: border-box;top: 0;bottom: 0;left: 50%;z-index: 0;}#sk-container-id-3 div.sk-serial {display: flex;flex-direction: column;align-items: center;background-color: white;padding-right: 0.2em;padding-left: 0.2em;position: relative;}#sk-container-id-3 div.sk-item {position: relative;z-index: 1;}#sk-container-id-3 div.sk-parallel {display: flex;align-items: stretch;justify-content: center;background-color: white;position: relative;}#sk-container-id-3 div.sk-item::before, #sk-container-id-3 div.sk-parallel-item::before {content: \"\";position: absolute;border-left: 1px solid gray;box-sizing: border-box;top: 0;bottom: 0;left: 50%;z-index: -1;}#sk-container-id-3 div.sk-parallel-item {display: flex;flex-direction: column;z-index: 1;position: relative;background-color: white;}#sk-container-id-3 div.sk-parallel-item:first-child::after {align-self: flex-end;width: 50%;}#sk-container-id-3 div.sk-parallel-item:last-child::after {align-self: flex-start;width: 50%;}#sk-container-id-3 div.sk-parallel-item:only-child::after {width: 0;}#sk-container-id-3 div.sk-dashed-wrapped {border: 1px dashed gray;margin: 0 0.4em 0.5em 0.4em;box-sizing: border-box;padding-bottom: 0.4em;background-color: white;}#sk-container-id-3 div.sk-label label {font-family: monospace;font-weight: bold;display: inline-block;line-height: 1.2em;}#sk-container-id-3 div.sk-label-container {text-align: center;}#sk-container-id-3 div.sk-container {/* jupyter's `normalize.less` sets `[hidden] { display: none; }` but bootstrap.min.css set `[hidden] { display: none !important; }` so we also need the `!important` here to be able to override the default hidden behavior on the sphinx rendered scikit-learn.org. See: https://github.com/scikit-learn/scikit-learn/issues/21755 */display: inline-block !important;position: relative;}#sk-container-id-3 div.sk-text-repr-fallback {display: none;}</style><div id=\"sk-container-id-3\" class=\"sk-top-container\"><div class=\"sk-text-repr-fallback\"><pre>LinearRegression()</pre><b>In a Jupyter environment, please rerun this cell to show the HTML representation or trust the notebook. <br />On GitHub, the HTML representation is unable to render, please try loading this page with nbviewer.org.</b></div><div class=\"sk-container\" hidden><div class=\"sk-item\"><div class=\"sk-estimator sk-toggleable\"><input class=\"sk-toggleable__control sk-hidden--visually\" id=\"sk-estimator-id-3\" type=\"checkbox\" checked><label for=\"sk-estimator-id-3\" class=\"sk-toggleable__label sk-toggleable__label-arrow\">LinearRegression</label><div class=\"sk-toggleable__content\"><pre>LinearRegression()</pre></div></div></div></div></div>"
      ],
      "text/plain": [
       "LinearRegression()"
      ]
     },
     "execution_count": 31,
     "metadata": {},
     "output_type": "execute_result"
    }
   ],
   "source": [
    "model.fit(X_train_scaled, y_train)"
   ]
  },
  {
   "cell_type": "code",
   "execution_count": 32,
   "metadata": {},
   "outputs": [
    {
     "data": {
      "text/plain": [
       "0.5967954005117011"
      ]
     },
     "execution_count": 32,
     "metadata": {},
     "output_type": "execute_result"
    }
   ],
   "source": [
    "# 予測モデルの評価\n",
    "model.score(X_train_scaled, y_train)"
   ]
  },
  {
   "cell_type": "code",
   "execution_count": 33,
   "metadata": {},
   "outputs": [
    {
     "data": {
      "text/plain": [
       "0.5752388860477974"
      ]
     },
     "execution_count": 33,
     "metadata": {},
     "output_type": "execute_result"
    }
   ],
   "source": [
    "model.score(X_test_scaled, y_test)"
   ]
  },
  {
   "cell_type": "code",
   "execution_count": 34,
   "metadata": {},
   "outputs": [],
   "source": [
    "#　予測\n",
    "X_new = np.array([[8, 41, 500, 37, -120, 1, 0.2],\n",
    "                  [2, 10, 2000, 38, -122, 1.5, 0.5],\n",
    "                  [1, 25, 1000, 38, -121, 2, 1]])\n"
   ]
  },
  {
   "cell_type": "code",
   "execution_count": 35,
   "metadata": {},
   "outputs": [
    {
     "data": {
      "text/plain": [
       "array([[ 2.74605512,  1.22435471, -0.84385579,  0.65791393, -0.26115327,\n",
       "        -0.8915631 , -0.91712007],\n",
       "       [-1.08180733, -1.4780894 ,  0.45107143,  1.1245529 , -1.27236074,\n",
       "        -0.41066806,  0.48931492],\n",
       "       [-1.71978441, -0.17045515, -0.41221338,  1.1245529 , -0.76675701,\n",
       "         0.07022698,  2.83337325]])"
      ]
     },
     "execution_count": 35,
     "metadata": {},
     "output_type": "execute_result"
    }
   ],
   "source": [
    "#　スケール変換\n",
    "X_new_scaled = scaler.transform(X_new)\n",
    "X_new_scaled"
   ]
  },
  {
   "cell_type": "code",
   "execution_count": 36,
   "metadata": {},
   "outputs": [
    {
     "data": {
      "text/plain": [
       "array([3.2387497 , 1.42228534, 1.43428255])"
      ]
     },
     "execution_count": 36,
     "metadata": {},
     "output_type": "execute_result"
    }
   ],
   "source": [
    "model.predict(X_new_scaled)"
   ]
  },
  {
   "cell_type": "code",
   "execution_count": 37,
   "metadata": {},
   "outputs": [
    {
     "name": "stdout",
     "output_type": "stream",
     "text": [
      "[ 0.63969525  0.07941585  0.01976508 -0.86589837 -0.81166365 -0.21676945\n",
      "  0.36174341]\n",
      "1.8977734592306714\n"
     ]
    }
   ],
   "source": [
    "#　設定したゴールに対する考察\n",
    "print(model.coef_)\n",
    "print(model.intercept_)"
   ]
  },
  {
   "cell_type": "code",
   "execution_count": 38,
   "metadata": {},
   "outputs": [
    {
     "data": {
      "text/plain": [
       "<Axes: >"
      ]
     },
     "execution_count": 38,
     "metadata": {},
     "output_type": "execute_result"
    },
    {
     "data": {
      "image/png": "[encoded data removed]",
      "text/plain": [
       "<Figure size 640x480 with 1 Axes>"
      ]
     },
     "metadata": {},
     "output_type": "display_data"
    }
   ],
   "source": [
    "sns.barplot(x=['所得', '築年数', '地域人口', '緯度', \n",
    "               '経度', '部屋数/人', '寝室数/人'], \n",
    "               y=model.coef_)"
   ]
  },
  {
   "attachments": {},
   "cell_type": "markdown",
   "metadata": {},
   "source": [
    "## 回帰手法の改善（多重共線性の対処）"
   ]
  },
  {
   "cell_type": "code",
   "execution_count": 39,
   "metadata": {},
   "outputs": [
    {
     "data": {
      "text/html": [
       "<div>\n",
       "<style scoped>\n",
       "    .dataframe tbody tr th:only-of-type {\n",
       "        vertical-align: middle;\n",
       "    }\n",
       "\n",
       "    .dataframe tbody tr th {\n",
       "        vertical-align: top;\n",
       "    }\n",
       "\n",
       "    .dataframe thead th {\n",
       "        text-align: right;\n",
       "    }\n",
       "</style>\n",
       "<table border=\"1\" class=\"dataframe\">\n",
       "  <thead>\n",
       "    <tr style=\"text-align: right;\">\n",
       "      <th></th>\n",
       "      <th>所得</th>\n",
       "      <th>築年数</th>\n",
       "      <th>地域人口</th>\n",
       "      <th>緯度</th>\n",
       "      <th>経度</th>\n",
       "      <th>部屋数/人</th>\n",
       "      <th>寝室数/人</th>\n",
       "    </tr>\n",
       "  </thead>\n",
       "  <tbody>\n",
       "    <tr>\n",
       "      <th>所得</th>\n",
       "      <td>1.000000</td>\n",
       "      <td>-0.202770</td>\n",
       "      <td>0.040534</td>\n",
       "      <td>-0.075305</td>\n",
       "      <td>-0.016145</td>\n",
       "      <td>0.210331</td>\n",
       "      <td>-0.060904</td>\n",
       "    </tr>\n",
       "    <tr>\n",
       "      <th>築年数</th>\n",
       "      <td>-0.202770</td>\n",
       "      <td>1.000000</td>\n",
       "      <td>-0.280775</td>\n",
       "      <td>-0.051961</td>\n",
       "      <td>-0.033877</td>\n",
       "      <td>-0.157083</td>\n",
       "      <td>-0.097772</td>\n",
       "    </tr>\n",
       "    <tr>\n",
       "      <th>地域人口</th>\n",
       "      <td>0.040534</td>\n",
       "      <td>-0.280775</td>\n",
       "      <td>1.000000</td>\n",
       "      <td>-0.106927</td>\n",
       "      <td>0.090809</td>\n",
       "      <td>-0.136746</td>\n",
       "      <td>-0.132073</td>\n",
       "    </tr>\n",
       "    <tr>\n",
       "      <th>緯度</th>\n",
       "      <td>-0.075305</td>\n",
       "      <td>-0.051961</td>\n",
       "      <td>-0.106927</td>\n",
       "      <td>1.000000</td>\n",
       "      <td>-0.922726</td>\n",
       "      <td>0.156807</td>\n",
       "      <td>0.111326</td>\n",
       "    </tr>\n",
       "    <tr>\n",
       "      <th>経度</th>\n",
       "      <td>-0.016145</td>\n",
       "      <td>-0.033877</td>\n",
       "      <td>0.090809</td>\n",
       "      <td>-0.922726</td>\n",
       "      <td>1.000000</td>\n",
       "      <td>-0.077510</td>\n",
       "      <td>-0.041287</td>\n",
       "    </tr>\n",
       "    <tr>\n",
       "      <th>部屋数/人</th>\n",
       "      <td>0.210331</td>\n",
       "      <td>-0.157083</td>\n",
       "      <td>-0.136746</td>\n",
       "      <td>0.156807</td>\n",
       "      <td>-0.077510</td>\n",
       "      <td>1.000000</td>\n",
       "      <td>0.913547</td>\n",
       "    </tr>\n",
       "    <tr>\n",
       "      <th>寝室数/人</th>\n",
       "      <td>-0.060904</td>\n",
       "      <td>-0.097772</td>\n",
       "      <td>-0.132073</td>\n",
       "      <td>0.111326</td>\n",
       "      <td>-0.041287</td>\n",
       "      <td>0.913547</td>\n",
       "      <td>1.000000</td>\n",
       "    </tr>\n",
       "  </tbody>\n",
       "</table>\n",
       "</div>"
      ],
      "text/plain": [
       "             所得       築年数      地域人口        緯度        経度     部屋数/人     寝室数/人\n",
       "所得     1.000000 -0.202770  0.040534 -0.075305 -0.016145  0.210331 -0.060904\n",
       "築年数   -0.202770  1.000000 -0.280775 -0.051961 -0.033877 -0.157083 -0.097772\n",
       "地域人口   0.040534 -0.280775  1.000000 -0.106927  0.090809 -0.136746 -0.132073\n",
       "緯度    -0.075305 -0.051961 -0.106927  1.000000 -0.922726  0.156807  0.111326\n",
       "経度    -0.016145 -0.033877  0.090809 -0.922726  1.000000 -0.077510 -0.041287\n",
       "部屋数/人  0.210331 -0.157083 -0.136746  0.156807 -0.077510  1.000000  0.913547\n",
       "寝室数/人 -0.060904 -0.097772 -0.132073  0.111326 -0.041287  0.913547  1.000000"
      ]
     },
     "execution_count": 39,
     "metadata": {},
     "output_type": "execute_result"
    }
   ],
   "source": [
    "#説明変数同士の相関係数を確認する。住宅価格の情報は除いて表示\n",
    "df.drop(columns=['住宅価格']).corr()"
   ]
  },
  {
   "cell_type": "code",
   "execution_count": 40,
   "metadata": {},
   "outputs": [
    {
     "data": {
      "text/plain": [
       "<Axes: xlabel='経度', ylabel='緯度'>"
      ]
     },
     "execution_count": 40,
     "metadata": {},
     "output_type": "execute_result"
    },
    {
     "data": {
      "image/png": "[encoded data removed]",
      "text/plain": [
       "<Figure size 640x480 with 1 Axes>"
      ]
     },
     "metadata": {},
     "output_type": "display_data"
    }
   ],
   "source": [
    "#緯度と経度のペアを散布図で比較\n",
    "sns.scatterplot(x='経度', y='緯度', data=df)"
   ]
  },
  {
   "cell_type": "code",
   "execution_count": 41,
   "metadata": {},
   "outputs": [
    {
     "data": {
      "text/plain": [
       "<Axes: xlabel='部屋数/人', ylabel='寝室数/人'>"
      ]
     },
     "execution_count": 41,
     "metadata": {},
     "output_type": "execute_result"
    },
    {
     "data": {
      "image/png": "[encoded data removed]",
      "text/plain": [
       "<Figure size 640x480 with 1 Axes>"
      ]
     },
     "metadata": {},
     "output_type": "display_data"
    }
   ],
   "source": [
    "# 部屋数/人と寝室数/人のペアの対処方法を検討\n",
    "sns.scatterplot(x='部屋数/人', y='寝室数/人', data=df)\n"
   ]
  },
  {
   "cell_type": "code",
   "execution_count": 42,
   "metadata": {},
   "outputs": [],
   "source": [
    "# 説明変数と目的変数を再定義\n",
    "X = df[['所得', '築年数', '地域人口', '緯度', '部屋数/人']].to_numpy()\n",
    "y = df['住宅価格'].to_numpy()\n"
   ]
  },
  {
   "attachments": {},
   "cell_type": "markdown",
   "metadata": {},
   "source": [
    "## 多重共線性の対処後の流れ"
   ]
  },
  {
   "attachments": {},
   "cell_type": "markdown",
   "metadata": {},
   "source": [
    "1. 説明変数のスケール変換\n",
    "1. 予測モデルの学習\n",
    "1. 予測モデルの評価\n",
    "1. 予測\n",
    "1. 設定したゴールに対する考察"
   ]
  },
  {
   "cell_type": "code",
   "execution_count": 43,
   "metadata": {},
   "outputs": [],
   "source": [
    "X_train, X_test, y_train, y_test = train_test_split(X, y, test_size=0.3, random_state=0)\n"
   ]
  },
  {
   "cell_type": "code",
   "execution_count": 44,
   "metadata": {},
   "outputs": [],
   "source": [
    "scaler = StandardScaler()\n"
   ]
  },
  {
   "cell_type": "code",
   "execution_count": 45,
   "metadata": {},
   "outputs": [
    {
     "data": {
      "text/html": [
       "<style>#sk-container-id-4 {color: black;background-color: white;}#sk-container-id-4 pre{padding: 0;}#sk-container-id-4 div.sk-toggleable {background-color: white;}#sk-container-id-4 label.sk-toggleable__label {cursor: pointer;display: block;width: 100%;margin-bottom: 0;padding: 0.3em;box-sizing: border-box;text-align: center;}#sk-container-id-4 label.sk-toggleable__label-arrow:before {content: \"▸\";float: left;margin-right: 0.25em;color: #696969;}#sk-container-id-4 label.sk-toggleable__label-arrow:hover:before {color: black;}#sk-container-id-4 div.sk-estimator:hover label.sk-toggleable__label-arrow:before {color: black;}#sk-container-id-4 div.sk-toggleable__content {max-height: 0;max-width: 0;overflow: hidden;text-align: left;background-color: #f0f8ff;}#sk-container-id-4 div.sk-toggleable__content pre {margin: 0.2em;color: black;border-radius: 0.25em;background-color: #f0f8ff;}#sk-container-id-4 input.sk-toggleable__control:checked~div.sk-toggleable__content {max-height: 200px;max-width: 100%;overflow: auto;}#sk-container-id-4 input.sk-toggleable__control:checked~label.sk-toggleable__label-arrow:before {content: \"▾\";}#sk-container-id-4 div.sk-estimator input.sk-toggleable__control:checked~label.sk-toggleable__label {background-color: #d4ebff;}#sk-container-id-4 div.sk-label input.sk-toggleable__control:checked~label.sk-toggleable__label {background-color: #d4ebff;}#sk-container-id-4 input.sk-hidden--visually {border: 0;clip: rect(1px 1px 1px 1px);clip: rect(1px, 1px, 1px, 1px);height: 1px;margin: -1px;overflow: hidden;padding: 0;position: absolute;width: 1px;}#sk-container-id-4 div.sk-estimator {font-family: monospace;background-color: #f0f8ff;border: 1px dotted black;border-radius: 0.25em;box-sizing: border-box;margin-bottom: 0.5em;}#sk-container-id-4 div.sk-estimator:hover {background-color: #d4ebff;}#sk-container-id-4 div.sk-parallel-item::after {content: \"\";width: 100%;border-bottom: 1px solid gray;flex-grow: 1;}#sk-container-id-4 div.sk-label:hover label.sk-toggleable__label {background-color: #d4ebff;}#sk-container-id-4 div.sk-serial::before {content: \"\";position: absolute;border-left: 1px solid gray;box-sizing: border-box;top: 0;bottom: 0;left: 50%;z-index: 0;}#sk-container-id-4 div.sk-serial {display: flex;flex-direction: column;align-items: center;background-color: white;padding-right: 0.2em;padding-left: 0.2em;position: relative;}#sk-container-id-4 div.sk-item {position: relative;z-index: 1;}#sk-container-id-4 div.sk-parallel {display: flex;align-items: stretch;justify-content: center;background-color: white;position: relative;}#sk-container-id-4 div.sk-item::before, #sk-container-id-4 div.sk-parallel-item::before {content: \"\";position: absolute;border-left: 1px solid gray;box-sizing: border-box;top: 0;bottom: 0;left: 50%;z-index: -1;}#sk-container-id-4 div.sk-parallel-item {display: flex;flex-direction: column;z-index: 1;position: relative;background-color: white;}#sk-container-id-4 div.sk-parallel-item:first-child::after {align-self: flex-end;width: 50%;}#sk-container-id-4 div.sk-parallel-item:last-child::after {align-self: flex-start;width: 50%;}#sk-container-id-4 div.sk-parallel-item:only-child::after {width: 0;}#sk-container-id-4 div.sk-dashed-wrapped {border: 1px dashed gray;margin: 0 0.4em 0.5em 0.4em;box-sizing: border-box;padding-bottom: 0.4em;background-color: white;}#sk-container-id-4 div.sk-label label {font-family: monospace;font-weight: bold;display: inline-block;line-height: 1.2em;}#sk-container-id-4 div.sk-label-container {text-align: center;}#sk-container-id-4 div.sk-container {/* jupyter's `normalize.less` sets `[hidden] { display: none; }` but bootstrap.min.css set `[hidden] { display: none !important; }` so we also need the `!important` here to be able to override the default hidden behavior on the sphinx rendered scikit-learn.org. See: https://github.com/scikit-learn/scikit-learn/issues/21755 */display: inline-block !important;position: relative;}#sk-container-id-4 div.sk-text-repr-fallback {display: none;}</style><div id=\"sk-container-id-4\" class=\"sk-top-container\"><div class=\"sk-text-repr-fallback\"><pre>StandardScaler()</pre><b>In a Jupyter environment, please rerun this cell to show the HTML representation or trust the notebook. <br />On GitHub, the HTML representation is unable to render, please try loading this page with nbviewer.org.</b></div><div class=\"sk-container\" hidden><div class=\"sk-item\"><div class=\"sk-estimator sk-toggleable\"><input class=\"sk-toggleable__control sk-hidden--visually\" id=\"sk-estimator-id-4\" type=\"checkbox\" checked><label for=\"sk-estimator-id-4\" class=\"sk-toggleable__label sk-toggleable__label-arrow\">StandardScaler</label><div class=\"sk-toggleable__content\"><pre>StandardScaler()</pre></div></div></div></div></div>"
      ],
      "text/plain": [
       "StandardScaler()"
      ]
     },
     "execution_count": 45,
     "metadata": {},
     "output_type": "execute_result"
    }
   ],
   "source": [
    "scaler.fit(X_train)\n"
   ]
  },
  {
   "cell_type": "code",
   "execution_count": 46,
   "metadata": {},
   "outputs": [],
   "source": [
    "X_train_scaled = scaler.transform(X_train)\n",
    "X_test_scaled  = scaler.transform(X_test)\n"
   ]
  },
  {
   "cell_type": "code",
   "execution_count": 47,
   "metadata": {},
   "outputs": [],
   "source": [
    "# 予測モデルの学習\n",
    "model = LinearRegression()\n"
   ]
  },
  {
   "cell_type": "code",
   "execution_count": 48,
   "metadata": {},
   "outputs": [
    {
     "data": {
      "text/html": [
       "<style>#sk-container-id-5 {color: black;background-color: white;}#sk-container-id-5 pre{padding: 0;}#sk-container-id-5 div.sk-toggleable {background-color: white;}#sk-container-id-5 label.sk-toggleable__label {cursor: pointer;display: block;width: 100%;margin-bottom: 0;padding: 0.3em;box-sizing: border-box;text-align: center;}#sk-container-id-5 label.sk-toggleable__label-arrow:before {content: \"▸\";float: left;margin-right: 0.25em;color: #696969;}#sk-container-id-5 label.sk-toggleable__label-arrow:hover:before {color: black;}#sk-container-id-5 div.sk-estimator:hover label.sk-toggleable__label-arrow:before {color: black;}#sk-container-id-5 div.sk-toggleable__content {max-height: 0;max-width: 0;overflow: hidden;text-align: left;background-color: #f0f8ff;}#sk-container-id-5 div.sk-toggleable__content pre {margin: 0.2em;color: black;border-radius: 0.25em;background-color: #f0f8ff;}#sk-container-id-5 input.sk-toggleable__control:checked~div.sk-toggleable__content {max-height: 200px;max-width: 100%;overflow: auto;}#sk-container-id-5 input.sk-toggleable__control:checked~label.sk-toggleable__label-arrow:before {content: \"▾\";}#sk-container-id-5 div.sk-estimator input.sk-toggleable__control:checked~label.sk-toggleable__label {background-color: #d4ebff;}#sk-container-id-5 div.sk-label input.sk-toggleable__control:checked~label.sk-toggleable__label {background-color: #d4ebff;}#sk-container-id-5 input.sk-hidden--visually {border: 0;clip: rect(1px 1px 1px 1px);clip: rect(1px, 1px, 1px, 1px);height: 1px;margin: -1px;overflow: hidden;padding: 0;position: absolute;width: 1px;}#sk-container-id-5 div.sk-estimator {font-family: monospace;background-color: #f0f8ff;border: 1px dotted black;border-radius: 0.25em;box-sizing: border-box;margin-bottom: 0.5em;}#sk-container-id-5 div.sk-estimator:hover {background-color: #d4ebff;}#sk-container-id-5 div.sk-parallel-item::after {content: \"\";width: 100%;border-bottom: 1px solid gray;flex-grow: 1;}#sk-container-id-5 div.sk-label:hover label.sk-toggleable__label {background-color: #d4ebff;}#sk-container-id-5 div.sk-serial::before {content: \"\";position: absolute;border-left: 1px solid gray;box-sizing: border-box;top: 0;bottom: 0;left: 50%;z-index: 0;}#sk-container-id-5 div.sk-serial {display: flex;flex-direction: column;align-items: center;background-color: white;padding-right: 0.2em;padding-left: 0.2em;position: relative;}#sk-container-id-5 div.sk-item {position: relative;z-index: 1;}#sk-container-id-5 div.sk-parallel {display: flex;align-items: stretch;justify-content: center;background-color: white;position: relative;}#sk-container-id-5 div.sk-item::before, #sk-container-id-5 div.sk-parallel-item::before {content: \"\";position: absolute;border-left: 1px solid gray;box-sizing: border-box;top: 0;bottom: 0;left: 50%;z-index: -1;}#sk-container-id-5 div.sk-parallel-item {display: flex;flex-direction: column;z-index: 1;position: relative;background-color: white;}#sk-container-id-5 div.sk-parallel-item:first-child::after {align-self: flex-end;width: 50%;}#sk-container-id-5 div.sk-parallel-item:last-child::after {align-self: flex-start;width: 50%;}#sk-container-id-5 div.sk-parallel-item:only-child::after {width: 0;}#sk-container-id-5 div.sk-dashed-wrapped {border: 1px dashed gray;margin: 0 0.4em 0.5em 0.4em;box-sizing: border-box;padding-bottom: 0.4em;background-color: white;}#sk-container-id-5 div.sk-label label {font-family: monospace;font-weight: bold;display: inline-block;line-height: 1.2em;}#sk-container-id-5 div.sk-label-container {text-align: center;}#sk-container-id-5 div.sk-container {/* jupyter's `normalize.less` sets `[hidden] { display: none; }` but bootstrap.min.css set `[hidden] { display: none !important; }` so we also need the `!important` here to be able to override the default hidden behavior on the sphinx rendered scikit-learn.org. See: https://github.com/scikit-learn/scikit-learn/issues/21755 */display: inline-block !important;position: relative;}#sk-container-id-5 div.sk-text-repr-fallback {display: none;}</style><div id=\"sk-container-id-5\" class=\"sk-top-container\"><div class=\"sk-text-repr-fallback\"><pre>LinearRegression()</pre><b>In a Jupyter environment, please rerun this cell to show the HTML representation or trust the notebook. <br />On GitHub, the HTML representation is unable to render, please try loading this page with nbviewer.org.</b></div><div class=\"sk-container\" hidden><div class=\"sk-item\"><div class=\"sk-estimator sk-toggleable\"><input class=\"sk-toggleable__control sk-hidden--visually\" id=\"sk-estimator-id-5\" type=\"checkbox\" checked><label for=\"sk-estimator-id-5\" class=\"sk-toggleable__label sk-toggleable__label-arrow\">LinearRegression</label><div class=\"sk-toggleable__content\"><pre>LinearRegression()</pre></div></div></div></div></div>"
      ],
      "text/plain": [
       "LinearRegression()"
      ]
     },
     "execution_count": 48,
     "metadata": {},
     "output_type": "execute_result"
    }
   ],
   "source": [
    "model.fit(X_train_scaled, y_train)\n"
   ]
  },
  {
   "cell_type": "code",
   "execution_count": 49,
   "metadata": {},
   "outputs": [
    {
     "name": "stdout",
     "output_type": "stream",
     "text": [
      "0.4740232339239423\n",
      "0.4835885444947773\n"
     ]
    }
   ],
   "source": [
    "# 予測モデルの評価\n",
    "print(model.score(X_train_scaled, y_train))\n",
    "print(model.score(X_test_scaled, y_test))\n"
   ]
  },
  {
   "cell_type": "code",
   "execution_count": 50,
   "metadata": {},
   "outputs": [],
   "source": [
    "# 予測\n",
    "X_new = np.array([[8, 41, 500, 38, 2],\n",
    "                  [10, 10, 1000, 40, 1],\n",
    "                  [7.5, 25, 3500, 39, 3]])\n"
   ]
  },
  {
   "cell_type": "code",
   "execution_count": 51,
   "metadata": {},
   "outputs": [],
   "source": [
    "X_new_scaled = scaler.transform(X_new)\n"
   ]
  },
  {
   "cell_type": "code",
   "execution_count": 52,
   "metadata": {},
   "outputs": [
    {
     "data": {
      "text/plain": [
       "array([3.68520926, 3.9076587 , 3.36531902])"
      ]
     },
     "execution_count": 52,
     "metadata": {},
     "output_type": "execute_result"
    }
   ],
   "source": [
    "model.predict(X_new_scaled)\n"
   ]
  },
  {
   "cell_type": "code",
   "execution_count": 53,
   "metadata": {},
   "outputs": [
    {
     "name": "stdout",
     "output_type": "stream",
     "text": [
      "[ 0.63613076  0.15847579  0.03447017 -0.11502971  0.07119682]\n",
      "1.8977734592307616\n"
     ]
    }
   ],
   "source": [
    "# 設定したゴールに対する考察\n",
    "print(model.coef_)\n",
    "print(model.intercept_)"
   ]
  },
  {
   "cell_type": "code",
   "execution_count": 54,
   "metadata": {},
   "outputs": [
    {
     "data": {
      "text/plain": [
       "<Axes: >"
      ]
     },
     "execution_count": 54,
     "metadata": {},
     "output_type": "execute_result"
    },
    {
     "data": {
      "image/png": "[encoded data removed]",
      "text/plain": [
       "<Figure size 640x480 with 1 Axes>"
      ]
     },
     "metadata": {},
     "output_type": "display_data"
    }
   ],
   "source": [
    "sns.barplot(x = ['所得', '築年数', '地域人口', '緯度', '部屋数/人'], y=model.coef_)\n"
   ]
  }
 ],
 "metadata": {
  "kernelspec": {
   "display_name": "base",
   "language": "python",
   "name": "python3"
  },
  "language_info": {
   "codemirror_mode": {
    "name": "ipython",
    "version": 3
   },
   "file_extension": ".py",
   "mimetype": "text/x-python",
   "name": "python",
   "nbconvert_exporter": "python",
   "pygments_lexer": "ipython3",
   "version": "3.9.16"
  },
  "orig_nbformat": 4
 },
 "nbformat": 4,
 "nbformat_minor": 2
}
